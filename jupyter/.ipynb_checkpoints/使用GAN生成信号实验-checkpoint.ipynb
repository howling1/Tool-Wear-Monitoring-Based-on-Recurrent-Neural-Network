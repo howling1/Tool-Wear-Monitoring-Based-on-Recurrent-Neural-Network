{
 "cells": [
  {
   "cell_type": "code",
   "execution_count": 11,
   "metadata": {},
   "outputs": [],
   "source": [
    "import torch\n",
    "import torch.nn as nn\n",
    "from torch.autograd import Variable\n",
    "import torch.optim as optim\n",
    "import torch.nn.functional as F\n",
    "from torch.utils.data import TensorDataset, DataLoader\n",
    "\n",
    "import matplotlib.pyplot as plt\n",
    "import numpy as np\n",
    "import pandas as pd"
   ]
  },
  {
   "cell_type": "code",
   "execution_count": 12,
   "metadata": {},
   "outputs": [],
   "source": [
    "# 如果系统中存在着GPU，我们将用GPU来完成张量的计算\n",
    "use_cuda = torch.cuda.is_available() #定义一个布尔型变量，标志当前的GPU是否可用\n",
    "\n",
    "# 如果当前GPU可用，则将优先在GPU上进行张量计算\n",
    "dtype = torch.cuda.FloatTensor if use_cuda else torch.FloatTensor\n",
    "itype = torch.cuda.LongTensor if use_cuda else torch.LongTensor"
   ]
  },
  {
   "cell_type": "code",
   "execution_count": 59,
   "metadata": {},
   "outputs": [],
   "source": [
    "def create_loader(batch_size,train_data,test_data,validation_data):\n",
    "    \"\"\"建立数据加载器\"\"\"\n",
    "    x_train = torch.from_numpy(np.array(train_data)[:,0:-1].astype(np.float32))\n",
    "    x_test = torch.from_numpy(np.array(test_data)[:, 0:-1].astype(np.float32))\n",
    "    x_valid = torch.from_numpy(np.array(validation_data)[:,0:-1].astype(np.float32))\n",
    "\n",
    "    x_train = x_train.view(-1, 1, 130)\n",
    "    x_test = x_test.view(-1, 1, 130)\n",
    "    x_valid = x_valid.view(-1, 1, 130)\n",
    "\n",
    "    y_train = torch.from_numpy(np.array(train_data.iloc[:, -1]).astype(np.float32))\n",
    "    y_test = torch.from_numpy(np.array(test_data.iloc[:, -1]).astype(np.float32))\n",
    "    y_valid = torch.from_numpy(np.array(validation_data.iloc[:, -1]).astype(np.float32))\n",
    "\n",
    "    train_dataset = TensorDataset(x_train, y_train)\n",
    "    test_dataset = TensorDataset(x_test, y_test)\n",
    "    validation_dataset = TensorDataset(x_valid, y_valid)\n",
    "\n",
    "    train_loader = DataLoader(dataset=train_dataset,batch_size=batch_size,shuffle=True)\n",
    "    test_loader = DataLoader(dataset=test_dataset, batch_size=batch_size)\n",
    "    validation_loader = DataLoader(dataset=validation_dataset,batch_size=batch_size,shuffle=True)\n",
    "\n",
    "    return train_loader, test_loader, validation_loader"
   ]
  },
  {
   "cell_type": "code",
   "execution_count": 60,
   "metadata": {},
   "outputs": [],
   "source": [
    "batch_size = 25\n",
    "\n",
    "train_data = pd.read_csv('../data/original training data.csv')\n",
    "test_data = pd.read_csv('../data/original test data.csv')\n",
    "validation_data = pd.read_csv('../data/original valid data.csv')\n",
    "train_loader, test_loader, validation_loader = create_loader(batch_size, train_data, test_data, validation_data)"
   ]
  },
  {
   "cell_type": "markdown",
   "metadata": {},
   "source": [
    "# 生成器模型"
   ]
  },
  {
   "cell_type": "code",
   "execution_count": 30,
   "metadata": {},
   "outputs": [],
   "source": [
    "class ModelG(nn.Module):\n",
    "    def __init__(self):\n",
    "        super(ModelG,self).__init__()\n",
    "        self.model=nn.Sequential()\n",
    "        self.model.add_module('deconv1',nn.ConvTranspose1d(in_channels=20, out_channels=128, kernel_size=3, \n",
    "                                                           stride=13, padding=1,output_padding=12)) \n",
    "        self.model.add_module('bnorm1',nn.BatchNorm1d(128))\n",
    "        self.model.add_module('relu1',nn.ReLU(True))\n",
    "        self.model.add_module('deconv2',nn.ConvTranspose1d(in_channels=128, out_channels=64, kernel_size=3, \n",
    "                                                           stride=5, padding=1,output_padding=4)) \n",
    "        self.model.add_module('bnorm2',nn.BatchNorm1d(64))\n",
    "        self.model.add_module('relu2',nn.ReLU(True))\n",
    "        self.model.add_module('deconv3',nn.ConvTranspose1d(in_channels=64, out_channels=1, kernel_size=3, \n",
    "                                                           stride=2, padding=1,output_padding=1))\n",
    "        self.model.add_module('bnorm3',nn.BatchNorm1d(1))\n",
    "        self.model.add_module('relu3',nn.ReLU(True))\n",
    "        \n",
    "    def forward(self,input):\n",
    "        output = input\n",
    "        \n",
    "        for name,module in self.model.named_children():\n",
    "            output = module(output)\n",
    "           \n",
    "        return output#输出长度为130的信号序列\n",
    "    \n",
    "def weight_init(m):\n",
    "    class_name = m.__class__.__name__\n",
    "    if class_name.find('conv') != -1:\n",
    "        m.weight.data.normal_(0,0.02)\n",
    "    if class_name.find('norm') != -1:\n",
    "        m.weight.data.normal_(1.0,0.02)\n",
    "        \n",
    "    "
   ]
  },
  {
   "cell_type": "markdown",
   "metadata": {},
   "source": [
    "# 判别器模型"
   ]
  },
  {
   "cell_type": "code",
   "execution_count": 94,
   "metadata": {},
   "outputs": [],
   "source": [
    "class ModelD(nn.Module):\n",
    "    def __init__(self):\n",
    "        super(ModelD,self).__init__()\n",
    "        #定义卷积层\n",
    "        self.conv = nn.Conv1d(in_channels=1,out_channels=10,kernel_size=3,stride=1,padding=1)\n",
    "        self.pool = nn.MaxPool1d(5)\n",
    "        self.dropout1 = nn.Dropout(0.2)\n",
    "        self.relu1 = nn.ReLU()\n",
    "        \n",
    "        #定义Bi-LSTM层\n",
    "        self.bl1 = nn.LSTM(input_size=10,hidden_size=50,batch_first=True,bidirectional=True,dropout = 0.2)\n",
    "        self.bl2 = nn.LSTM(input_size=100,hidden_size=50,batch_first=True,bidirectional=True,dropout = 0.2)\n",
    "        \n",
    "        \n",
    "        #定义全连接判断层\n",
    "        self.linear1 = nn.Linear(100,512)\n",
    "        self.dropout2 = nn.Dropout(0.2)\n",
    "        self.relu2 = nn.ReLU()\n",
    "        self.linear2 = nn.Linear(512,1)\n",
    "        self.sigmoid = nn.Sigmoid()\n",
    "        \n",
    "    def forward(self,input,hidden):\n",
    "        output = input \n",
    "        hhh1 = hidden[0]\n",
    "        \n",
    "        output = self.conv(output)\n",
    "        output = self.pool(output)\n",
    "        output = self.dropout1(output)\n",
    "        output = self.relu1(output)\n",
    "        \n",
    "        output = output.view(-1,26,10)\n",
    "        output, (h_n, c_n) = self.bl1(output,hhh1)\n",
    "        output, (h_n, c_n) = self.bl2(output,hhh1)\n",
    "        \n",
    "        output = output[:, -1, :]\n",
    "        output = self.linear1(output)\n",
    "        output = self.dropout2(output)\n",
    "        output = self.relu2(output)\n",
    "        output = self.linear2(output)\n",
    "        output = self.sigmoid(output)\n",
    "           \n",
    "        return output\n",
    "    \n",
    "    def initHidden(self, batch_size):\n",
    "        # 对隐含层单元变量全部初始化为0\n",
    "        # 注意尺寸是： layer_size, batch_size, hidden_size\n",
    "        out = []\n",
    "        hidden1 = torch.zeros(2, batch_size, 50)\n",
    "        cell1 = torch.zeros(2, batch_size, 50)\n",
    "        out.append((hidden1, cell1))\n",
    "        return out"
   ]
  },
  {
   "cell_type": "code",
   "execution_count": 120,
   "metadata": {},
   "outputs": [
    {
     "name": "stderr",
     "output_type": "stream",
     "text": [
      "/opt/anaconda3/lib/python3.7/site-packages/torch/nn/modules/loss.py:498: UserWarning: Using a target size (torch.Size([25])) that is different to the input size (torch.Size([25, 1])) is deprecated. Please ensure they have the same size.\n",
      "  return F.binary_cross_entropy(input, target, weight=self.weight, reduction=self.reduction)\n"
     ]
    },
    {
     "name": "stdout",
     "output_type": "stream",
     "text": [
      "第0周期，第0/22撮, 分类器Loss:1.3802, 生成器Loss:0.6968\n",
      "第0周期，第1/22撮, 分类器Loss:1.3757, 生成器Loss:0.6938\n",
      "第0周期，第2/22撮, 分类器Loss:1.3741, 生成器Loss:0.6972\n",
      "第0周期，第3/22撮, 分类器Loss:1.3657, 生成器Loss:0.6981\n",
      "第0周期，第4/22撮, 分类器Loss:1.3639, 生成器Loss:0.6956\n",
      "第0周期，第5/22撮, 分类器Loss:1.3512, 生成器Loss:0.6962\n",
      "第0周期，第6/22撮, 分类器Loss:1.3506, 生成器Loss:0.6990\n",
      "第0周期，第7/22撮, 分类器Loss:1.3436, 生成器Loss:0.6978\n",
      "第0周期，第8/22撮, 分类器Loss:1.3415, 生成器Loss:0.6981\n",
      "第0周期，第9/22撮, 分类器Loss:1.3325, 生成器Loss:0.6979\n",
      "第0周期，第10/22撮, 分类器Loss:1.3292, 生成器Loss:0.7013\n",
      "第0周期，第11/22撮, 分类器Loss:1.3279, 生成器Loss:0.7019\n",
      "第0周期，第12/22撮, 分类器Loss:1.3154, 生成器Loss:0.7021\n",
      "第0周期，第13/22撮, 分类器Loss:1.3020, 生成器Loss:0.7045\n",
      "第0周期，第14/22撮, 分类器Loss:1.2958, 生成器Loss:0.7048\n",
      "第0周期，第15/22撮, 分类器Loss:1.2837, 生成器Loss:0.7057\n",
      "第0周期，第16/22撮, 分类器Loss:1.2703, 生成器Loss:0.7067\n",
      "第0周期，第17/22撮, 分类器Loss:1.2631, 生成器Loss:0.7114\n",
      "第0周期，第18/22撮, 分类器Loss:1.2401, 生成器Loss:0.7088\n",
      "第0周期，第19/22撮, 分类器Loss:1.2305, 生成器Loss:0.7173\n",
      "第0周期，第20/22撮, 分类器Loss:1.2162, 生成器Loss:0.7162\n",
      "第0周期，第21/22撮, 分类器Loss:1.1985, 生成器Loss:0.7212\n"
     ]
    },
    {
     "name": "stderr",
     "output_type": "stream",
     "text": [
      "/opt/anaconda3/lib/python3.7/site-packages/torch/nn/modules/loss.py:498: UserWarning: Using a target size (torch.Size([12])) that is different to the input size (torch.Size([12, 1])) is deprecated. Please ensure they have the same size.\n",
      "  return F.binary_cross_entropy(input, target, weight=self.weight, reduction=self.reduction)\n"
     ]
    },
    {
     "name": "stdout",
     "output_type": "stream",
     "text": [
      "第1周期，第0/22撮, 分类器Loss:1.1673, 生成器Loss:0.7251\n",
      "第1周期，第1/22撮, 分类器Loss:1.1522, 生成器Loss:0.7258\n",
      "第1周期，第2/22撮, 分类器Loss:1.1329, 生成器Loss:0.7288\n"
     ]
    },
    {
     "ename": "KeyboardInterrupt",
     "evalue": "",
     "output_type": "error",
     "traceback": [
      "\u001b[0;31m---------------------------------------------------------------------------\u001b[0m",
      "\u001b[0;31mKeyboardInterrupt\u001b[0m                         Traceback (most recent call last)",
      "\u001b[0;32m<ipython-input-120-8f14edd541d6>\u001b[0m in \u001b[0;36m<module>\u001b[0;34m\u001b[0m\n\u001b[1;32m     53\u001b[0m         \u001b[0moutput\u001b[0m \u001b[0;34m=\u001b[0m \u001b[0mnetD\u001b[0m\u001b[0;34m(\u001b[0m\u001b[0mfake_signal\u001b[0m\u001b[0;34m,\u001b[0m\u001b[0minit_hidden\u001b[0m\u001b[0;34m)\u001b[0m\u001b[0;34m\u001b[0m\u001b[0;34m\u001b[0m\u001b[0m\n\u001b[1;32m     54\u001b[0m         \u001b[0merror_G\u001b[0m \u001b[0;34m=\u001b[0m \u001b[0mcritirion\u001b[0m\u001b[0;34m(\u001b[0m\u001b[0moutput\u001b[0m\u001b[0;34m,\u001b[0m\u001b[0mlabel\u001b[0m\u001b[0;34m)\u001b[0m\u001b[0;34m\u001b[0m\u001b[0;34m\u001b[0m\u001b[0m\n\u001b[0;32m---> 55\u001b[0;31m         \u001b[0merror_G\u001b[0m\u001b[0;34m.\u001b[0m\u001b[0mbackward\u001b[0m\u001b[0;34m(\u001b[0m\u001b[0;34m)\u001b[0m\u001b[0;34m\u001b[0m\u001b[0;34m\u001b[0m\u001b[0m\n\u001b[0m\u001b[1;32m     56\u001b[0m         \u001b[0moptimizerG\u001b[0m\u001b[0;34m.\u001b[0m\u001b[0mstep\u001b[0m\u001b[0;34m(\u001b[0m\u001b[0;34m)\u001b[0m\u001b[0;34m\u001b[0m\u001b[0;34m\u001b[0m\u001b[0m\n\u001b[1;32m     57\u001b[0m \u001b[0;34m\u001b[0m\u001b[0m\n",
      "\u001b[0;32m/opt/anaconda3/lib/python3.7/site-packages/torch/tensor.py\u001b[0m in \u001b[0;36mbackward\u001b[0;34m(self, gradient, retain_graph, create_graph)\u001b[0m\n\u001b[1;32m    193\u001b[0m                 \u001b[0mproducts\u001b[0m\u001b[0;34m.\u001b[0m \u001b[0mDefaults\u001b[0m \u001b[0mto\u001b[0m\u001b[0;31m \u001b[0m\u001b[0;31m`\u001b[0m\u001b[0;31m`\u001b[0m\u001b[0;32mFalse\u001b[0m\u001b[0;31m`\u001b[0m\u001b[0;31m`\u001b[0m\u001b[0;34m.\u001b[0m\u001b[0;34m\u001b[0m\u001b[0;34m\u001b[0m\u001b[0m\n\u001b[1;32m    194\u001b[0m         \"\"\"\n\u001b[0;32m--> 195\u001b[0;31m         \u001b[0mtorch\u001b[0m\u001b[0;34m.\u001b[0m\u001b[0mautograd\u001b[0m\u001b[0;34m.\u001b[0m\u001b[0mbackward\u001b[0m\u001b[0;34m(\u001b[0m\u001b[0mself\u001b[0m\u001b[0;34m,\u001b[0m \u001b[0mgradient\u001b[0m\u001b[0;34m,\u001b[0m \u001b[0mretain_graph\u001b[0m\u001b[0;34m,\u001b[0m \u001b[0mcreate_graph\u001b[0m\u001b[0;34m)\u001b[0m\u001b[0;34m\u001b[0m\u001b[0;34m\u001b[0m\u001b[0m\n\u001b[0m\u001b[1;32m    196\u001b[0m \u001b[0;34m\u001b[0m\u001b[0m\n\u001b[1;32m    197\u001b[0m     \u001b[0;32mdef\u001b[0m \u001b[0mregister_hook\u001b[0m\u001b[0;34m(\u001b[0m\u001b[0mself\u001b[0m\u001b[0;34m,\u001b[0m \u001b[0mhook\u001b[0m\u001b[0;34m)\u001b[0m\u001b[0;34m:\u001b[0m\u001b[0;34m\u001b[0m\u001b[0;34m\u001b[0m\u001b[0m\n",
      "\u001b[0;32m/opt/anaconda3/lib/python3.7/site-packages/torch/autograd/__init__.py\u001b[0m in \u001b[0;36mbackward\u001b[0;34m(tensors, grad_tensors, retain_graph, create_graph, grad_variables)\u001b[0m\n\u001b[1;32m     97\u001b[0m     Variable._execution_engine.run_backward(\n\u001b[1;32m     98\u001b[0m         \u001b[0mtensors\u001b[0m\u001b[0;34m,\u001b[0m \u001b[0mgrad_tensors\u001b[0m\u001b[0;34m,\u001b[0m \u001b[0mretain_graph\u001b[0m\u001b[0;34m,\u001b[0m \u001b[0mcreate_graph\u001b[0m\u001b[0;34m,\u001b[0m\u001b[0;34m\u001b[0m\u001b[0;34m\u001b[0m\u001b[0m\n\u001b[0;32m---> 99\u001b[0;31m         allow_unreachable=True)  # allow_unreachable flag\n\u001b[0m\u001b[1;32m    100\u001b[0m \u001b[0;34m\u001b[0m\u001b[0m\n\u001b[1;32m    101\u001b[0m \u001b[0;34m\u001b[0m\u001b[0m\n",
      "\u001b[0;31mKeyboardInterrupt\u001b[0m: "
     ]
    }
   ],
   "source": [
    "# 实例化生成器模型,定义损失函数和优化器\n",
    "netG = ModelG().cuda() if use_cuda else ModelG()\n",
    "netG.apply(weight_init)\n",
    "netD = ModelD.cuda() if use_cuda else ModelD()\n",
    "netD.apply(weight_init)\n",
    "optimizerG = optim.Adam(netG.parameters(),lr=0.0002,betas=(0.5,0.999))\n",
    "optimizerD = optim.Adam(netD.parameters(),lr=0.0002,betas=(0.5,0.999))\n",
    "\n",
    "# 生成一系列用于生成器生成信号的噪声以及一系列固定噪声，固定噪声是用于评估生成器结果的，它在训练过程中始终不变\n",
    "fixed_noise = torch.FloatTensor(batch_size,20,1).normal_(0,1).requires_grad_(True)\n",
    "if use_cuda:\n",
    "    noise = noise.cuda()\n",
    "    fixed_noise = fixed_noise.cuda()\n",
    "    \n",
    "critirion = nn.BCELoss()\n",
    "error_G = None\n",
    "num_epochs = 100\n",
    "results = []\n",
    "\n",
    "for epoch in range(num_epochs):\n",
    "    for batch_idx,(data,target) in enumerate(train_loader):\n",
    "        optimizerD.zero_grad()\n",
    "        data,target = data.clone().detach().requires_grad_(True), target.clone().detach()\n",
    "        label = torch.ones(data.size()[0])\n",
    "        \n",
    "        if use_cuda:\n",
    "            data, target, label = data.cuda(), target.cuda(), label.cuda()\n",
    "            \n",
    "        netD.train()\n",
    "        init_hidden = netD.initHidden(data.shape[0])  # 初始化LSTM的隐单元变量\n",
    "        output = netD(data,init_hidden) \n",
    "        \n",
    "        label.data.fill_(1)\n",
    "        error_real = critirion(output,label)\n",
    "        error_real.backward()\n",
    "        D_x = output.data.mean()\n",
    "        \n",
    "        noise = torch.normal(0,1,(data.shape[0],20,1),requires_grad = True)\n",
    "        fake_signal = netG(noise).detach()\n",
    "        output2 = netD(fake_signal,init_hidden)\n",
    "        label.data.fill_(0)\n",
    "        error_fake = critirion(output2,label)\n",
    "        error_fake.backward()\n",
    "        error_D = error_fake + error_real\n",
    "        optimizerD.step()\n",
    "        \n",
    "        #单独训练生成器模型\n",
    "        optimizerG.zero_grad()\n",
    "        label.data.fill_(1)\n",
    "        noise.data.normal_(0,1)\n",
    "        netG.train()\n",
    "        fake_signal = netG(noise)\n",
    "        output = netD(fake_signal,init_hidden)\n",
    "        error_G = critirion(output,label)\n",
    "        error_G.backward()\n",
    "        optimizerG.step()\n",
    "        \n",
    "        if use_cuda:\n",
    "            error_D = error_D.cpu()\n",
    "            error_G = error_G.cpu()\n",
    "            \n",
    "        results.append([float(error_D.data.numpy()), float(error_G.data.numpy())])\n",
    "        \n",
    "        print ('第{}周期，第{}/{}撮, 分类器Loss:{:.4f}, 生成器Loss:{:.4f}'.format(\n",
    "                epoch,batch_idx,len(train_loader),\n",
    "                error_D.data.item(), \n",
    "                error_G.data.item()))\n",
    "        \n",
    "    \n",
    "        \n",
    "        \n",
    "        \n",
    "        \n",
    "            \n",
    "        \n",
    "            \n",
    "        \n",
    "        \n",
    "        \n",
    "        \n",
    "        \n",
    "        \n",
    "    \n"
   ]
  },
  {
   "cell_type": "code",
   "execution_count": 76,
   "metadata": {},
   "outputs": [
    {
     "data": {
      "text/plain": [
       "torch.Size([180, 1, 130])"
      ]
     },
     "execution_count": 76,
     "metadata": {},
     "output_type": "execute_result"
    }
   ],
   "source": [
    "test_loader.dataset.tensors[0].shape"
   ]
  },
  {
   "cell_type": "code",
   "execution_count": 109,
   "metadata": {},
   "outputs": [
    {
     "data": {
      "text/plain": [
       "0.8368392246073021"
      ]
     },
     "execution_count": 109,
     "metadata": {},
     "output_type": "execute_result"
    }
   ],
   "source": [
    "np.random.rand()"
   ]
  },
  {
   "cell_type": "code",
   "execution_count": 110,
   "metadata": {},
   "outputs": [],
   "source": [
    "a=[]"
   ]
  },
  {
   "cell_type": "code",
   "execution_count": 111,
   "metadata": {},
   "outputs": [
    {
     "ename": "TypeError",
     "evalue": "append() takes exactly one argument (2 given)",
     "output_type": "error",
     "traceback": [
      "\u001b[0;31m---------------------------------------------------------------------------\u001b[0m",
      "\u001b[0;31mTypeError\u001b[0m                                 Traceback (most recent call last)",
      "\u001b[0;32m<ipython-input-111-781be7b2ef26>\u001b[0m in \u001b[0;36m<module>\u001b[0;34m\u001b[0m\n\u001b[0;32m----> 1\u001b[0;31m \u001b[0ma\u001b[0m\u001b[0;34m.\u001b[0m\u001b[0mappend\u001b[0m\u001b[0;34m(\u001b[0m\u001b[0;36m1\u001b[0m\u001b[0;34m,\u001b[0m\u001b[0;36m2\u001b[0m\u001b[0;34m)\u001b[0m\u001b[0;34m\u001b[0m\u001b[0;34m\u001b[0m\u001b[0m\n\u001b[0m",
      "\u001b[0;31mTypeError\u001b[0m: append() takes exactly one argument (2 given)"
     ]
    }
   ],
   "source": [
    "a.append(1,2)"
   ]
  },
  {
   "cell_type": "code",
   "execution_count": 112,
   "metadata": {},
   "outputs": [
    {
     "data": {
      "text/plain": [
       "22"
      ]
     },
     "execution_count": 112,
     "metadata": {},
     "output_type": "execute_result"
    }
   ],
   "source": [
    "len(train_loader)"
   ]
  },
  {
   "cell_type": "code",
   "execution_count": 113,
   "metadata": {},
   "outputs": [
    {
     "data": {
      "text/plain": [
       "550"
      ]
     },
     "execution_count": 113,
     "metadata": {},
     "output_type": "execute_result"
    }
   ],
   "source": []
  },
  {
   "cell_type": "code",
   "execution_count": null,
   "metadata": {},
   "outputs": [],
   "source": []
  }
 ],
 "metadata": {
  "kernelspec": {
   "display_name": "Python 3",
   "language": "python",
   "name": "python3"
  },
  "language_info": {
   "codemirror_mode": {
    "name": "ipython",
    "version": 3
   },
   "file_extension": ".py",
   "mimetype": "text/x-python",
   "name": "python",
   "nbconvert_exporter": "python",
   "pygments_lexer": "ipython3",
   "version": "3.7.6"
  }
 },
 "nbformat": 4,
 "nbformat_minor": 4
}
